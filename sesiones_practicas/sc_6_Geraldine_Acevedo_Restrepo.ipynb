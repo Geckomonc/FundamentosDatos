{
  "nbformat": 4,
  "nbformat_minor": 0,
  "metadata": {
    "colab": {
      "private_outputs": true,
      "provenance": [],
      "authorship_tag": "ABX9TyP4CvdLzPmsLV0LykC2eX6U",
      "include_colab_link": true
    },
    "kernelspec": {
      "name": "python3",
      "display_name": "Python 3"
    },
    "language_info": {
      "name": "python"
    }
  },
  "cells": [
    {
      "cell_type": "markdown",
      "metadata": {
        "id": "view-in-github",
        "colab_type": "text"
      },
      "source": [
        "<a href=\"https://colab.research.google.com/github/Geckomonc/FundamentosDatos/blob/main/sesiones_practicas/sc_6_Geraldine_Acevedo_Restrepo.ipynb\" target=\"_parent\"><img src=\"https://colab.research.google.com/assets/colab-badge.svg\" alt=\"Open In Colab\"/></a>"
      ]
    },
    {
      "cell_type": "markdown",
      "source": [
        "| **Función / Método**        | **Descripción**                                                                                          | **Ejemplo de uso**                                                                                        |\n",
        "| --------------------------- | -------------------------------------------------------------------------------------------------------- | --------------------------------------------------------------------------------------------------------- |\n",
        "| `pd.to_datetime()`          | Convierte una columna a formato de fecha, permitiendo el manejo de valores no válidos.                   | `df['A'] = pd.to_datetime(df['A'], errors='coerce')`                                                      |\n",
        "| `.isnull()` / `.sum()`      | Identifica y contabiliza valores faltantes.                                                              | `df.isnull().sum()`                                                                                       |\n",
        "| `.apply()`                  | Permite aplicar funciones personalizadas a columnas.                                                     | `df['A'] = df['A'].apply(lambda x: np.nan if x < 0 else x)`                                               |\n",
        "| `.fillna()`                 | Imputa valores faltantes con un valor específico o estadístico.                                          | `df['A'] = df['A'].fillna(df['A'].median())`                                                              |\n",
        "| `.mode()`                   | Obtiene el valor más frecuente de una columna (moda).                                                    | `df['A'].fillna(df['A'].mode()[0])`                                                                       |\n",
        "| `.interpolate()`            | Rellena valores numéricos faltantes mediante interpolación lineal.                                       | `df['A'] = df['A'].interpolate(method='linear')`                                                          |\n",
        "| `.ffill()` / `.bfill()`     | Rellena valores faltantes propagando el último valor válido hacia adelante o hacia atrás.                | `df['A'] = df['A'].ffill()`                                                                               |\n",
        "| `df.duplicated(keep=False)` | Detecta registros duplicados en el DataFrame, mostrando `True` para todas las repeticiones.              | `df[df.duplicated(keep=False)]`                                                                           |\n",
        "| `get_close_matches()`       | Busca coincidencias aproximadas entre cadenas para detectar errores tipográficos o categorías similares. | `from difflib import get_close_matches`<br>`get_close_matches('Medelin', ['Medellín', 'Bogotá', 'Cali'])` |\n",
        "| `pd.concat()`               | Combina series o DataFrames para comparación o unión de resultados.                                      | `pd.concat([faltantes_antes, faltantes_despues], axis=1)`                                                 |\n",
        "| `missingno`                 | Visualización gráfica de valores faltantes.                                                              | `import missingno as msno`<br>`msno.matrix(df)`                                                           |\n",
        "| `sklearn.impute`            | Imputación avanzada (KNN, media, mediana, constante).                                                    | `from sklearn.impute import SimpleImputer`                                                                |\n"
      ],
      "metadata": {
        "id": "RS16hL54PlEH"
      }
    },
    {
      "cell_type": "markdown",
      "source": [
        "# Ejercicio N°1"
      ],
      "metadata": {
        "id": "BD1AzllKOl2X"
      }
    },
    {
      "cell_type": "code",
      "execution_count": null,
      "metadata": {
        "id": "R4WTh5JXNWg7"
      },
      "outputs": [],
      "source": [
        "import pandas as pd\n",
        "import numpy as np\n",
        "\n",
        "# Crear el DataFrame\n",
        "df = pd.DataFrame({\n",
        "    'Nombre': ['Ana', 'Luis', 'Pedro', None, 'Marta', 'Luis', 'Sofía'],\n",
        "    'Edad': [25, np.nan, 35, 29, -5, 25, None],\n",
        "    'Ciudad': ['Bogotá', 'Medellín', None, 'Medellín', 'Cali', 'Bogotá', 'Cali'],\n",
        "    'Ingreso': [3500, 4800, np.nan, 5200, 5100, np.nan, 4700],\n",
        "    'FechaIngreso': ['2023-01-01', '2023-01-05', None, '2023-01-10', '2023-01-12', None, '2023-01-15']\n",
        "})\n",
        "\n",
        "# Ver los datos iniciales\n",
        "print(\"Datos originales:\")\n",
        "print(df)\n"
      ]
    },
    {
      "cell_type": "code",
      "source": [
        "# Identificamos valores negativos que no tienen sentido para la edad\n",
        "df['Edad'] = df['Edad'].apply(lambda x: np.nan if x is not None and x < 0 else x)\n",
        "\n",
        "# Reemplazamos los valores faltantes de 'Edad' por la mediana\n",
        "df['Edad'] = df['Edad'].fillna(df['Edad'].median())"
      ],
      "metadata": {
        "id": "oGqQtfUFN5sG"
      },
      "execution_count": null,
      "outputs": []
    },
    {
      "cell_type": "code",
      "source": [
        "# Imputar valores de ingreso con la mediana\n",
        "df['Ingreso'] = df['Ingreso'].fillna(df['Ingreso'].median())"
      ],
      "metadata": {
        "id": "aTVscWyVN8pO"
      },
      "execution_count": null,
      "outputs": []
    },
    {
      "cell_type": "code",
      "source": [
        "# Imputar ciudad con el valor más frecuente (moda)\n",
        "df['Ciudad'] = df['Ciudad'].fillna(df['Ciudad'].mode()[0])"
      ],
      "metadata": {
        "id": "IV7UZ7n8OAIG"
      },
      "execution_count": null,
      "outputs": []
    },
    {
      "cell_type": "code",
      "source": [
        "# Convertir a datetime\n",
        "df['FechaIngreso'] = pd.to_datetime(df['FechaIngreso'])\n",
        "\n",
        "# Imputar con el valor anterior (forward fill)\n",
        "df['FechaIngreso'] = df['FechaIngreso'].ffill()"
      ],
      "metadata": {
        "id": "CxX0gExzOBPu"
      },
      "execution_count": null,
      "outputs": []
    },
    {
      "cell_type": "code",
      "source": [
        "# Reemplazar nombres faltantes con \"Desconocido\"\n",
        "df['Nombre'] = df['Nombre'].fillna(\"Desconocido\")"
      ],
      "metadata": {
        "id": "6T8sSJsUOFs-"
      },
      "execution_count": null,
      "outputs": []
    },
    {
      "cell_type": "code",
      "source": [
        "print(\"Datos después de la limpieza e imputación:\")\n",
        "print(df)"
      ],
      "metadata": {
        "id": "W6SPtWEoOGjO"
      },
      "execution_count": null,
      "outputs": []
    },
    {
      "cell_type": "markdown",
      "source": [
        "# Ejercicio N°2"
      ],
      "metadata": {
        "id": "XWVVWns0Os6G"
      }
    },
    {
      "cell_type": "code",
      "source": [
        "# Crear el nuevo DataFrame\n",
        "df = pd.DataFrame({\n",
        "    'ID': [101, 102, 102, 103, 104, 104, 104],\n",
        "    'Nombre': ['Ana', 'Luis', 'Luis', 'Marta', 'Carlos', 'Carlos', 'Carlos'],\n",
        "    'Edad': [25, 30, 30, 29, 40, 40, 41],\n",
        "    'Ciudad': ['Bogotá', 'Cali', 'Cali', 'Medellín', 'Cali', 'Cali', 'Cali'],\n",
        "    'FechaRegistro': ['2023-01-01', '2023-01-05', '2023-01-05', '2023-01-10',\n",
        "                      '2023-01-15', '2023-01-15', '2023-01-16']\n",
        "})"
      ],
      "metadata": {
        "id": "dfqhypFwOT9u"
      },
      "execution_count": null,
      "outputs": []
    },
    {
      "cell_type": "code",
      "source": [
        "print(df)"
      ],
      "metadata": {
        "id": "VKkaKePZa-_n"
      },
      "execution_count": null,
      "outputs": []
    },
    {
      "cell_type": "markdown",
      "source": [
        "¿Cuál es el total de registros originales?"
      ],
      "metadata": {
        "id": "q4B_MqRPS9ye"
      }
    },
    {
      "cell_type": "code",
      "source": [
        "df.shape[0]"
      ],
      "metadata": {
        "id": "ztKCfJz_VfGu"
      },
      "execution_count": null,
      "outputs": []
    },
    {
      "cell_type": "markdown",
      "source": [
        "\n",
        "¿Cuáles y cuántos son los duplicados exactos?"
      ],
      "metadata": {
        "id": "-Lpd2Q98TALG"
      }
    },
    {
      "cell_type": "code",
      "source": [
        "duplicados_exactos = df[df.duplicated(keep=False)]\n",
        "cantidad_duplicados_exactos = duplicados_exactos.shape[0]\n",
        "print(\"Duplicados exactos:\\n\", duplicados_exactos)\n",
        "print(\"Cantidad de duplicados exactos:\", cantidad_duplicados_exactos)\n"
      ],
      "metadata": {
        "id": "rzUwjBt9OUqP"
      },
      "execution_count": null,
      "outputs": []
    },
    {
      "cell_type": "markdown",
      "source": [
        "¿Cuáles y cuántos son los duplicados por varias columnas?\n"
      ],
      "metadata": {
        "id": "nQhzD1krTCPW"
      }
    },
    {
      "cell_type": "code",
      "source": [
        "duplicados_parciales = df[df.duplicated(subset=['ID', 'Nombre'], keep=False)]\n",
        "cantidad_duplicados_parciales = duplicados_parciales.shape[0]\n",
        "print(\"Duplicados por ID, Nombre, Edad, Ciudad, Fecha de Registro:\\n\", duplicados_parciales)\n",
        "print(\"Cantidad de duplicados por esas columnas:\", cantidad_duplicados_parciales)\n"
      ],
      "metadata": {
        "id": "tEz6e7A_OXXW"
      },
      "execution_count": null,
      "outputs": []
    },
    {
      "cell_type": "markdown",
      "source": [
        "¿Cuántos registros debes eliminar?"
      ],
      "metadata": {
        "id": "kdp8oXQQTFOO"
      }
    },
    {
      "cell_type": "code",
      "source": [
        "# Suponemos que queremos eliminar duplicados exactos\n",
        "registros_a_eliminar = df.duplicated(subset=['ID', 'Nombre']).sum()\n",
        "print(\"Registros a eliminar:\", registros_a_eliminar)\n"
      ],
      "metadata": {
        "id": "rs6dQU9eOa82"
      },
      "execution_count": null,
      "outputs": []
    },
    {
      "cell_type": "markdown",
      "source": [
        "\n",
        "¿Cuántos registros quedan después de la limpieza?"
      ],
      "metadata": {
        "id": "xhKhUTiQTHa3"
      }
    },
    {
      "cell_type": "code",
      "source": [
        "df_limpio = df.drop_duplicates(subset=['ID', 'Nombre'])\n",
        "print(\"Registros después de eliminar duplicados:\", len(df_limpio))"
      ],
      "metadata": {
        "id": "W14YwHwlOdhW"
      },
      "execution_count": null,
      "outputs": []
    },
    {
      "cell_type": "code",
      "source": [
        "print(df_limpio)"
      ],
      "metadata": {
        "id": "SgESs0DOc9sX"
      },
      "execution_count": null,
      "outputs": []
    },
    {
      "cell_type": "markdown",
      "source": [
        "# Ejercicio N°3"
      ],
      "metadata": {
        "id": "enKUISDZOwHm"
      }
    },
    {
      "cell_type": "code",
      "source": [
        "import pandas as pd\n",
        "from difflib import get_close_matches\n",
        "\n",
        "df = pd.DataFrame({\n",
        "    'Ciudad': ['bogota', 'Bogotá', 'BOGOTA', 'bogotá', 'bogata', 'Bógota', 'BogoTa',\n",
        "               'Cali', 'calí', 'medellín', 'medellin']\n",
        "})"
      ],
      "metadata": {
        "id": "1tB9WvpcOfIu"
      },
      "execution_count": null,
      "outputs": []
    },
    {
      "cell_type": "code",
      "source": [
        "ciudades_validas = ['Bogotá', 'Cali', 'Medellín']"
      ],
      "metadata": {
        "id": "9ZALwYwmOhQu"
      },
      "execution_count": null,
      "outputs": []
    },
    {
      "cell_type": "markdown",
      "source": [
        "Parametros opcionales de get_close_matches\n",
        "\n",
        "- word: Cadena a comparar (ej: 'Medelin')\n",
        "\n",
        "- possibilities: Lista de posibles coincidencias.\n",
        "\n",
        "- n: Número máximo de resultados (por defecto 3).\n",
        "\n",
        "- cutoff: Umbral de similitud entre 0 y 1 (más alto = más estricto). Ej: - 0.6 (por defecto): algo permisivo. -0.9: más exigente (solo casi idénticos)."
      ],
      "metadata": {
        "id": "zx7GPH8baTdW"
      }
    },
    {
      "cell_type": "code",
      "source": [
        "def corregir_ciudad(nombre_ciudad):\n",
        "    coincidencias = get_close_matches(nombre_ciudad, ciudades_validas, n=1, cutoff=0.6)\n",
        "    if coincidencias:\n",
        "        return coincidencias[0]  # Retornar la coincidencia más cercana\n",
        "    else:\n",
        "        return nombre_ciudad  # Si no hay coincidencias, dejar el original"
      ],
      "metadata": {
        "id": "3WCNQ357OkAm"
      },
      "execution_count": null,
      "outputs": []
    },
    {
      "cell_type": "markdown",
      "source": [
        "Estaríamos creando una nueva columna para ver como quedo la limpieza"
      ],
      "metadata": {
        "id": "af8Q9RuXZlI2"
      }
    },
    {
      "cell_type": "code",
      "source": [
        "df['Ciudad_Limpia'] = df['Ciudad'].apply(lambda x: corregir_ciudad(x.title()))"
      ],
      "metadata": {
        "id": "C8DHv-uoZJFW"
      },
      "execution_count": null,
      "outputs": []
    },
    {
      "cell_type": "code",
      "source": [
        "df"
      ],
      "metadata": {
        "id": "rv98FFIcZWB2"
      },
      "execution_count": null,
      "outputs": []
    },
    {
      "cell_type": "markdown",
      "source": [
        "Si quisieramos ver el resultado reflejado en la columna original se usa el siguiente código"
      ],
      "metadata": {
        "id": "rohccN8NZwh2"
      }
    },
    {
      "cell_type": "code",
      "source": [
        "df['Ciudad'] = df['Ciudad'].apply(lambda x: corregir_ciudad(x.title()))"
      ],
      "metadata": {
        "id": "irNx5FCwZgTu"
      },
      "execution_count": null,
      "outputs": []
    }
  ]
}
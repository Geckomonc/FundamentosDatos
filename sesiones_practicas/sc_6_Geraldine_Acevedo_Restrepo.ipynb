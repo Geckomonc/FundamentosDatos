{
  "nbformat": 4,
  "nbformat_minor": 0,
  "metadata": {
    "colab": {
      "provenance": [],
      "authorship_tag": "ABX9TyPoLdVpa/GbzgQxlllWveqW",
      "include_colab_link": true
    },
    "kernelspec": {
      "name": "python3",
      "display_name": "Python 3"
    },
    "language_info": {
      "name": "python"
    }
  },
  "cells": [
    {
      "cell_type": "markdown",
      "metadata": {
        "id": "view-in-github",
        "colab_type": "text"
      },
      "source": [
        "<a href=\"https://colab.research.google.com/github/Geckomonc/FundamentosDatos/blob/main/sesiones_practicas/sc_6_Geraldine_Acevedo_Restrepo.ipynb\" target=\"_parent\"><img src=\"https://colab.research.google.com/assets/colab-badge.svg\" alt=\"Open In Colab\"/></a>"
      ]
    },
    {
      "cell_type": "markdown",
      "source": [
        "| **Función / Método**        | **Descripción**                                                                                          | **Ejemplo de uso**                                                                                        |\n",
        "| --------------------------- | -------------------------------------------------------------------------------------------------------- | --------------------------------------------------------------------------------------------------------- |\n",
        "| `pd.to_datetime()`          | Convierte una columna a formato de fecha, permitiendo el manejo de valores no válidos.                   | `df['A'] = pd.to_datetime(df['A'], errors='coerce')`                                                      |\n",
        "| `.isnull()` / `.sum()`      | Identifica y contabiliza valores faltantes.                                                              | `df.isnull().sum()`                                                                                       |\n",
        "| `.apply()`                  | Permite aplicar funciones personalizadas a columnas.                                                     | `df['A'] = df['A'].apply(lambda x: np.nan if x < 0 else x)`                                               |\n",
        "| `.fillna()`                 | Imputa valores faltantes con un valor específico o estadístico.                                          | `df['A'] = df['A'].fillna(df['A'].median())`                                                              |\n",
        "| `.mode()`                   | Obtiene el valor más frecuente de una columna (moda).                                                    | `df['A'].fillna(df['A'].mode()[0])`                                                                       |\n",
        "| `.interpolate()`            | Rellena valores numéricos faltantes mediante interpolación lineal.                                       | `df['A'] = df['A'].interpolate(method='linear')`                                                          |\n",
        "| `.ffill()` / `.bfill()`     | Rellena valores faltantes propagando el último valor válido hacia adelante o hacia atrás.                | `df['A'] = df['A'].ffill()`                                                                               |\n",
        "| `df.duplicated(keep=False)` | Detecta registros duplicados en el DataFrame, mostrando `True` para todas las repeticiones.              | `df[df.duplicated(keep=False)]`                                                                           |\n",
        "| `get_close_matches()`       | Busca coincidencias aproximadas entre cadenas para detectar errores tipográficos o categorías similares. | `from difflib import get_close_matches`<br>`get_close_matches('Medelin', ['Medellín', 'Bogotá', 'Cali'])` |\n",
        "| `pd.concat()`               | Combina series o DataFrames para comparación o unión de resultados.                                      | `pd.concat([faltantes_antes, faltantes_despues], axis=1)`                                                 |\n",
        "| `missingno`                 | Visualización gráfica de valores faltantes.                                                              | `import missingno as msno`<br>`msno.matrix(df)`                                                           |\n",
        "| `sklearn.impute`            | Imputación avanzada (KNN, media, mediana, constante).                                                    | `from sklearn.impute import SimpleImputer`                                                                |\n"
      ],
      "metadata": {
        "id": "RS16hL54PlEH"
      }
    },
    {
      "cell_type": "markdown",
      "source": [
        "# Ejercicio N°1"
      ],
      "metadata": {
        "id": "BD1AzllKOl2X"
      }
    },
    {
      "cell_type": "code",
      "execution_count": 146,
      "metadata": {
        "id": "R4WTh5JXNWg7",
        "colab": {
          "base_uri": "https://localhost:8080/"
        },
        "outputId": "2a513f52-4e67-4701-b65c-555f15cee471"
      },
      "outputs": [
        {
          "output_type": "stream",
          "name": "stdout",
          "text": [
            "Datos originales:\n",
            "  Nombre  Edad    Ciudad  Ingreso FechaIngreso\n",
            "0    Ana  25.0    Bogotá   3500.0   2023-01-01\n",
            "1   Luis   NaN  Medellín   4800.0   2023-01-05\n",
            "2  Pedro  35.0      None      NaN         None\n",
            "3   None  29.0  Medellín   5200.0   2023-01-10\n",
            "4  Marta  -5.0      Cali   5100.0   2023-01-12\n",
            "5   Luis  25.0    Bogotá      NaN         None\n",
            "6  Sofía   NaN      Cali   4700.0   2023-01-15\n"
          ]
        }
      ],
      "source": [
        "import pandas as pd\n",
        "import numpy as np\n",
        "\n",
        "# Crear el DataFrame\n",
        "df = pd.DataFrame({\n",
        "    'Nombre': ['Ana', 'Luis', 'Pedro', None, 'Marta', 'Luis', 'Sofía'],\n",
        "    'Edad': [25, np.nan, 35, 29, -5, 25, None],\n",
        "    'Ciudad': ['Bogotá', 'Medellín', None, 'Medellín', 'Cali', 'Bogotá', 'Cali'],\n",
        "    'Ingreso': [3500, 4800, np.nan, 5200, 5100, np.nan, 4700],\n",
        "    'FechaIngreso': ['2023-01-01', '2023-01-05', None, '2023-01-10', '2023-01-12', None, '2023-01-15']\n",
        "})\n",
        "\n",
        "# Ver los datos iniciales\n",
        "print(\"Datos originales:\")\n",
        "print(df)\n"
      ]
    },
    {
      "cell_type": "code",
      "source": [
        "# Identificamos valores negativos que no tienen sentido para la edad\n",
        "df['Edad'] = df['Edad'].apply(lambda x: np.nan if x is not None and x < 0 else x)\n",
        "\n",
        "# Reemplazamos los valores faltantes de 'Edad' por la mediana\n",
        "df['Edad'] = df['Edad'].fillna(df['Edad'].median())"
      ],
      "metadata": {
        "id": "oGqQtfUFN5sG"
      },
      "execution_count": 147,
      "outputs": []
    },
    {
      "cell_type": "code",
      "source": [
        "# Imputar valores de ingreso con la mediana\n",
        "df['Ingreso'] = df['Ingreso'].fillna(df['Ingreso'].median())"
      ],
      "metadata": {
        "id": "aTVscWyVN8pO"
      },
      "execution_count": 148,
      "outputs": []
    },
    {
      "cell_type": "code",
      "source": [
        "# Imputar ciudad con el valor más frecuente (moda)\n",
        "df['Ciudad'] = df['Ciudad'].fillna(df['Ciudad'].mode()[0])"
      ],
      "metadata": {
        "id": "IV7UZ7n8OAIG"
      },
      "execution_count": 149,
      "outputs": []
    },
    {
      "cell_type": "code",
      "source": [
        "# Convertir a datetime\n",
        "df['FechaIngreso'] = pd.to_datetime(df['FechaIngreso'])\n",
        "\n",
        "# Imputar con el valor anterior (forward fill)\n",
        "df['FechaIngreso'] = df['FechaIngreso'].ffill()"
      ],
      "metadata": {
        "id": "CxX0gExzOBPu"
      },
      "execution_count": 150,
      "outputs": []
    },
    {
      "cell_type": "code",
      "source": [
        "# Reemplazar nombres faltantes con \"Desconocido\"\n",
        "df['Nombre'] = df['Nombre'].fillna(\"Desconocido\")"
      ],
      "metadata": {
        "id": "6T8sSJsUOFs-"
      },
      "execution_count": 151,
      "outputs": []
    },
    {
      "cell_type": "code",
      "source": [
        "print(\"Datos después de la limpieza e imputación:\")\n",
        "print(df)"
      ],
      "metadata": {
        "id": "W6SPtWEoOGjO",
        "colab": {
          "base_uri": "https://localhost:8080/"
        },
        "outputId": "088181f8-a064-4069-e345-d915ebc10019"
      },
      "execution_count": 152,
      "outputs": [
        {
          "output_type": "stream",
          "name": "stdout",
          "text": [
            "Datos después de la limpieza e imputación:\n",
            "        Nombre  Edad    Ciudad  Ingreso FechaIngreso\n",
            "0          Ana  25.0    Bogotá   3500.0   2023-01-01\n",
            "1         Luis  27.0  Medellín   4800.0   2023-01-05\n",
            "2        Pedro  35.0    Bogotá   4800.0   2023-01-05\n",
            "3  Desconocido  29.0  Medellín   5200.0   2023-01-10\n",
            "4        Marta  27.0      Cali   5100.0   2023-01-12\n",
            "5         Luis  25.0    Bogotá   4800.0   2023-01-12\n",
            "6        Sofía  27.0      Cali   4700.0   2023-01-15\n"
          ]
        }
      ]
    },
    {
      "cell_type": "markdown",
      "source": [
        "# Ejercicio N°2"
      ],
      "metadata": {
        "id": "XWVVWns0Os6G"
      }
    },
    {
      "cell_type": "code",
      "source": [
        "# Crear el nuevo DataFrame\n",
        "df = pd.DataFrame({\n",
        "    'ID': [101, 102, 102, 103, 104, 104, 104],\n",
        "    'Nombre': ['Ana', 'Luis', 'Luis', 'Marta', 'Carlos', 'Carlos', 'Carlos'],\n",
        "    'Edad': [25, 30, 30, 29, 40, 40, 41],\n",
        "    'Ciudad': ['Bogotá', 'Cali', 'Cali', 'Medellín', 'Cali', 'Cali', 'Cali'],\n",
        "    'FechaRegistro': ['2023-01-01', '2023-01-05', '2023-01-05', '2023-01-10',\n",
        "                      '2023-01-15', '2023-01-15', '2023-01-16']\n",
        "})"
      ],
      "metadata": {
        "id": "dfqhypFwOT9u"
      },
      "execution_count": 153,
      "outputs": []
    },
    {
      "cell_type": "code",
      "source": [
        "print(df)"
      ],
      "metadata": {
        "id": "VKkaKePZa-_n",
        "colab": {
          "base_uri": "https://localhost:8080/"
        },
        "outputId": "ab2871c8-26d9-4d17-b5a0-7ba86d6167a2"
      },
      "execution_count": 154,
      "outputs": [
        {
          "output_type": "stream",
          "name": "stdout",
          "text": [
            "    ID  Nombre  Edad    Ciudad FechaRegistro\n",
            "0  101     Ana    25    Bogotá    2023-01-01\n",
            "1  102    Luis    30      Cali    2023-01-05\n",
            "2  102    Luis    30      Cali    2023-01-05\n",
            "3  103   Marta    29  Medellín    2023-01-10\n",
            "4  104  Carlos    40      Cali    2023-01-15\n",
            "5  104  Carlos    40      Cali    2023-01-15\n",
            "6  104  Carlos    41      Cali    2023-01-16\n"
          ]
        }
      ]
    },
    {
      "cell_type": "markdown",
      "source": [
        "¿Cuál es el total de registros originales?"
      ],
      "metadata": {
        "id": "q4B_MqRPS9ye"
      }
    },
    {
      "cell_type": "code",
      "source": [
        "df.shape[0]"
      ],
      "metadata": {
        "id": "ztKCfJz_VfGu",
        "colab": {
          "base_uri": "https://localhost:8080/"
        },
        "outputId": "0f89e755-4ac2-48cb-b1a0-02518aa4290b"
      },
      "execution_count": 155,
      "outputs": [
        {
          "output_type": "execute_result",
          "data": {
            "text/plain": [
              "7"
            ]
          },
          "metadata": {},
          "execution_count": 155
        }
      ]
    },
    {
      "cell_type": "markdown",
      "source": [
        "\n",
        "¿Cuáles y cuántos son los duplicados exactos?"
      ],
      "metadata": {
        "id": "-Lpd2Q98TALG"
      }
    },
    {
      "cell_type": "code",
      "source": [
        "duplicados_exactos = df[df.duplicated(keep=False)]\n",
        "cantidad_duplicados_exactos = duplicados_exactos.shape[0]\n",
        "print(\"Duplicados exactos:\\n\", duplicados_exactos)\n",
        "print(\"Cantidad de duplicados exactos:\", cantidad_duplicados_exactos)\n"
      ],
      "metadata": {
        "id": "rzUwjBt9OUqP",
        "colab": {
          "base_uri": "https://localhost:8080/"
        },
        "outputId": "46084097-954f-45cd-9969-3aa8d70fc68b"
      },
      "execution_count": 156,
      "outputs": [
        {
          "output_type": "stream",
          "name": "stdout",
          "text": [
            "Duplicados exactos:\n",
            "     ID  Nombre  Edad Ciudad FechaRegistro\n",
            "1  102    Luis    30   Cali    2023-01-05\n",
            "2  102    Luis    30   Cali    2023-01-05\n",
            "4  104  Carlos    40   Cali    2023-01-15\n",
            "5  104  Carlos    40   Cali    2023-01-15\n",
            "Cantidad de duplicados exactos: 4\n"
          ]
        }
      ]
    },
    {
      "cell_type": "markdown",
      "source": [
        "¿Cuáles y cuántos son los duplicados por varias columnas?\n"
      ],
      "metadata": {
        "id": "nQhzD1krTCPW"
      }
    },
    {
      "cell_type": "code",
      "source": [
        "duplicados_parciales = df[df.duplicated(subset=['ID', 'Nombre'], keep=False)]\n",
        "cantidad_duplicados_parciales = duplicados_parciales.shape[0]\n",
        "print(\"Duplicados por ID, Nombre, Edad, Ciudad, Fecha de Registro:\\n\", duplicados_parciales)\n",
        "print(\"Cantidad de duplicados por esas columnas:\", cantidad_duplicados_parciales)\n"
      ],
      "metadata": {
        "id": "tEz6e7A_OXXW",
        "colab": {
          "base_uri": "https://localhost:8080/"
        },
        "outputId": "2e1eab79-5dc8-45d2-ce1b-d9ecd451ad32"
      },
      "execution_count": 157,
      "outputs": [
        {
          "output_type": "stream",
          "name": "stdout",
          "text": [
            "Duplicados por ID, Nombre, Edad, Ciudad, Fecha de Registro:\n",
            "     ID  Nombre  Edad Ciudad FechaRegistro\n",
            "1  102    Luis    30   Cali    2023-01-05\n",
            "2  102    Luis    30   Cali    2023-01-05\n",
            "4  104  Carlos    40   Cali    2023-01-15\n",
            "5  104  Carlos    40   Cali    2023-01-15\n",
            "6  104  Carlos    41   Cali    2023-01-16\n",
            "Cantidad de duplicados por esas columnas: 5\n"
          ]
        }
      ]
    },
    {
      "cell_type": "markdown",
      "source": [
        "¿Cuántos registros debes eliminar?"
      ],
      "metadata": {
        "id": "kdp8oXQQTFOO"
      }
    },
    {
      "cell_type": "code",
      "source": [
        "# Suponemos que queremos eliminar duplicados exactos\n",
        "registros_a_eliminar = df.duplicated(subset=['ID', 'Nombre']).sum()\n",
        "print(\"Registros a eliminar:\", registros_a_eliminar)\n"
      ],
      "metadata": {
        "id": "rs6dQU9eOa82",
        "colab": {
          "base_uri": "https://localhost:8080/"
        },
        "outputId": "54cd9421-94e9-43d7-c4f7-e662ffc7f9ce"
      },
      "execution_count": 158,
      "outputs": [
        {
          "output_type": "stream",
          "name": "stdout",
          "text": [
            "Registros a eliminar: 3\n"
          ]
        }
      ]
    },
    {
      "cell_type": "markdown",
      "source": [
        "\n",
        "¿Cuántos registros quedan después de la limpieza?"
      ],
      "metadata": {
        "id": "xhKhUTiQTHa3"
      }
    },
    {
      "cell_type": "code",
      "source": [
        "df_limpio = df.drop_duplicates(subset=['ID', 'Nombre'])\n",
        "print(\"Registros después de eliminar duplicados:\", len(df_limpio))"
      ],
      "metadata": {
        "id": "W14YwHwlOdhW",
        "colab": {
          "base_uri": "https://localhost:8080/"
        },
        "outputId": "d051098d-eaa0-431f-8301-6f8e33d0e06c"
      },
      "execution_count": 159,
      "outputs": [
        {
          "output_type": "stream",
          "name": "stdout",
          "text": [
            "Registros después de eliminar duplicados: 4\n"
          ]
        }
      ]
    },
    {
      "cell_type": "code",
      "source": [
        "print(df_limpio)"
      ],
      "metadata": {
        "id": "SgESs0DOc9sX",
        "colab": {
          "base_uri": "https://localhost:8080/"
        },
        "outputId": "43e6839a-3568-42a6-e5e0-7378de1a6ed8"
      },
      "execution_count": 160,
      "outputs": [
        {
          "output_type": "stream",
          "name": "stdout",
          "text": [
            "    ID  Nombre  Edad    Ciudad FechaRegistro\n",
            "0  101     Ana    25    Bogotá    2023-01-01\n",
            "1  102    Luis    30      Cali    2023-01-05\n",
            "3  103   Marta    29  Medellín    2023-01-10\n",
            "4  104  Carlos    40      Cali    2023-01-15\n"
          ]
        }
      ]
    },
    {
      "cell_type": "markdown",
      "source": [
        "# Ejercicio N°3"
      ],
      "metadata": {
        "id": "enKUISDZOwHm"
      }
    },
    {
      "cell_type": "code",
      "source": [
        "import pandas as pd\n",
        "from difflib import get_close_matches\n",
        "\n",
        "df = pd.DataFrame({\n",
        "    'Ciudad': ['bogota', 'Bogotá', 'BOGOTA', 'bogotá', 'bogata', 'Bógota', 'BogoTa',\n",
        "               'Cali', 'calí', 'medellín', 'medellin']\n",
        "})"
      ],
      "metadata": {
        "id": "1tB9WvpcOfIu"
      },
      "execution_count": 161,
      "outputs": []
    },
    {
      "cell_type": "code",
      "source": [
        "ciudades_validas = ['Bogotá', 'Cali', 'Medellín']"
      ],
      "metadata": {
        "id": "9ZALwYwmOhQu"
      },
      "execution_count": 162,
      "outputs": []
    },
    {
      "cell_type": "markdown",
      "source": [
        "Parametros opcionales de get_close_matches\n",
        "\n",
        "- word: Cadena a comparar (ej: 'Medelin')\n",
        "\n",
        "- possibilities: Lista de posibles coincidencias.\n",
        "\n",
        "- n: Número máximo de resultados (por defecto 3).\n",
        "\n",
        "- cutoff: Umbral de similitud entre 0 y 1 (más alto = más estricto). Ej: - 0.6 (por defecto): algo permisivo. -0.9: más exigente (solo casi idénticos)."
      ],
      "metadata": {
        "id": "zx7GPH8baTdW"
      }
    },
    {
      "cell_type": "code",
      "source": [
        "def corregir_ciudad(nombre_ciudad):\n",
        "    coincidencias = get_close_matches(nombre_ciudad, ciudades_validas, n=1, cutoff=0.6)\n",
        "    if coincidencias:\n",
        "        return coincidencias[0]  # Retornar la coincidencia más cercana\n",
        "    else:\n",
        "        return nombre_ciudad  # Si no hay coincidencias, dejar el original"
      ],
      "metadata": {
        "id": "3WCNQ357OkAm"
      },
      "execution_count": 163,
      "outputs": []
    },
    {
      "cell_type": "markdown",
      "source": [
        "Estaríamos creando una nueva columna para ver como quedo la limpieza"
      ],
      "metadata": {
        "id": "af8Q9RuXZlI2"
      }
    },
    {
      "cell_type": "code",
      "source": [
        "df['Ciudad_Limpia'] = df['Ciudad'].apply(lambda x: corregir_ciudad(x.title()))"
      ],
      "metadata": {
        "id": "C8DHv-uoZJFW"
      },
      "execution_count": 164,
      "outputs": []
    },
    {
      "cell_type": "code",
      "source": [
        "df"
      ],
      "metadata": {
        "id": "rv98FFIcZWB2",
        "colab": {
          "base_uri": "https://localhost:8080/",
          "height": 394
        },
        "outputId": "7c7e962d-89be-42af-f71a-7ab2f075c8ff"
      },
      "execution_count": 143,
      "outputs": [
        {
          "output_type": "execute_result",
          "data": {
            "text/plain": [
              "      Ciudad Ciudad_Limpia\n",
              "0     bogota        Bogotá\n",
              "1     Bogotá        Bogotá\n",
              "2     BOGOTA        Bogotá\n",
              "3     bogotá        Bogotá\n",
              "4     bogata        Bogotá\n",
              "5     Bógota        Bogotá\n",
              "6     BogoTa        Bogotá\n",
              "7       Cali          Cali\n",
              "8       calí          Cali\n",
              "9   medellín      Medellín\n",
              "10  medellin      Medellín"
            ],
            "text/html": [
              "\n",
              "  <div id=\"df-0782ade9-61c5-4ed4-bd94-a4c442af5f5c\" class=\"colab-df-container\">\n",
              "    <div>\n",
              "<style scoped>\n",
              "    .dataframe tbody tr th:only-of-type {\n",
              "        vertical-align: middle;\n",
              "    }\n",
              "\n",
              "    .dataframe tbody tr th {\n",
              "        vertical-align: top;\n",
              "    }\n",
              "\n",
              "    .dataframe thead th {\n",
              "        text-align: right;\n",
              "    }\n",
              "</style>\n",
              "<table border=\"1\" class=\"dataframe\">\n",
              "  <thead>\n",
              "    <tr style=\"text-align: right;\">\n",
              "      <th></th>\n",
              "      <th>Ciudad</th>\n",
              "      <th>Ciudad_Limpia</th>\n",
              "    </tr>\n",
              "  </thead>\n",
              "  <tbody>\n",
              "    <tr>\n",
              "      <th>0</th>\n",
              "      <td>bogota</td>\n",
              "      <td>Bogotá</td>\n",
              "    </tr>\n",
              "    <tr>\n",
              "      <th>1</th>\n",
              "      <td>Bogotá</td>\n",
              "      <td>Bogotá</td>\n",
              "    </tr>\n",
              "    <tr>\n",
              "      <th>2</th>\n",
              "      <td>BOGOTA</td>\n",
              "      <td>Bogotá</td>\n",
              "    </tr>\n",
              "    <tr>\n",
              "      <th>3</th>\n",
              "      <td>bogotá</td>\n",
              "      <td>Bogotá</td>\n",
              "    </tr>\n",
              "    <tr>\n",
              "      <th>4</th>\n",
              "      <td>bogata</td>\n",
              "      <td>Bogotá</td>\n",
              "    </tr>\n",
              "    <tr>\n",
              "      <th>5</th>\n",
              "      <td>Bógota</td>\n",
              "      <td>Bogotá</td>\n",
              "    </tr>\n",
              "    <tr>\n",
              "      <th>6</th>\n",
              "      <td>BogoTa</td>\n",
              "      <td>Bogotá</td>\n",
              "    </tr>\n",
              "    <tr>\n",
              "      <th>7</th>\n",
              "      <td>Cali</td>\n",
              "      <td>Cali</td>\n",
              "    </tr>\n",
              "    <tr>\n",
              "      <th>8</th>\n",
              "      <td>calí</td>\n",
              "      <td>Cali</td>\n",
              "    </tr>\n",
              "    <tr>\n",
              "      <th>9</th>\n",
              "      <td>medellín</td>\n",
              "      <td>Medellín</td>\n",
              "    </tr>\n",
              "    <tr>\n",
              "      <th>10</th>\n",
              "      <td>medellin</td>\n",
              "      <td>Medellín</td>\n",
              "    </tr>\n",
              "  </tbody>\n",
              "</table>\n",
              "</div>\n",
              "    <div class=\"colab-df-buttons\">\n",
              "\n",
              "  <div class=\"colab-df-container\">\n",
              "    <button class=\"colab-df-convert\" onclick=\"convertToInteractive('df-0782ade9-61c5-4ed4-bd94-a4c442af5f5c')\"\n",
              "            title=\"Convert this dataframe to an interactive table.\"\n",
              "            style=\"display:none;\">\n",
              "\n",
              "  <svg xmlns=\"http://www.w3.org/2000/svg\" height=\"24px\" viewBox=\"0 -960 960 960\">\n",
              "    <path d=\"M120-120v-720h720v720H120Zm60-500h600v-160H180v160Zm220 220h160v-160H400v160Zm0 220h160v-160H400v160ZM180-400h160v-160H180v160Zm440 0h160v-160H620v160ZM180-180h160v-160H180v160Zm440 0h160v-160H620v160Z\"/>\n",
              "  </svg>\n",
              "    </button>\n",
              "\n",
              "  <style>\n",
              "    .colab-df-container {\n",
              "      display:flex;\n",
              "      gap: 12px;\n",
              "    }\n",
              "\n",
              "    .colab-df-convert {\n",
              "      background-color: #E8F0FE;\n",
              "      border: none;\n",
              "      border-radius: 50%;\n",
              "      cursor: pointer;\n",
              "      display: none;\n",
              "      fill: #1967D2;\n",
              "      height: 32px;\n",
              "      padding: 0 0 0 0;\n",
              "      width: 32px;\n",
              "    }\n",
              "\n",
              "    .colab-df-convert:hover {\n",
              "      background-color: #E2EBFA;\n",
              "      box-shadow: 0px 1px 2px rgba(60, 64, 67, 0.3), 0px 1px 3px 1px rgba(60, 64, 67, 0.15);\n",
              "      fill: #174EA6;\n",
              "    }\n",
              "\n",
              "    .colab-df-buttons div {\n",
              "      margin-bottom: 4px;\n",
              "    }\n",
              "\n",
              "    [theme=dark] .colab-df-convert {\n",
              "      background-color: #3B4455;\n",
              "      fill: #D2E3FC;\n",
              "    }\n",
              "\n",
              "    [theme=dark] .colab-df-convert:hover {\n",
              "      background-color: #434B5C;\n",
              "      box-shadow: 0px 1px 3px 1px rgba(0, 0, 0, 0.15);\n",
              "      filter: drop-shadow(0px 1px 2px rgba(0, 0, 0, 0.3));\n",
              "      fill: #FFFFFF;\n",
              "    }\n",
              "  </style>\n",
              "\n",
              "    <script>\n",
              "      const buttonEl =\n",
              "        document.querySelector('#df-0782ade9-61c5-4ed4-bd94-a4c442af5f5c button.colab-df-convert');\n",
              "      buttonEl.style.display =\n",
              "        google.colab.kernel.accessAllowed ? 'block' : 'none';\n",
              "\n",
              "      async function convertToInteractive(key) {\n",
              "        const element = document.querySelector('#df-0782ade9-61c5-4ed4-bd94-a4c442af5f5c');\n",
              "        const dataTable =\n",
              "          await google.colab.kernel.invokeFunction('convertToInteractive',\n",
              "                                                    [key], {});\n",
              "        if (!dataTable) return;\n",
              "\n",
              "        const docLinkHtml = 'Like what you see? Visit the ' +\n",
              "          '<a target=\"_blank\" href=https://colab.research.google.com/notebooks/data_table.ipynb>data table notebook</a>'\n",
              "          + ' to learn more about interactive tables.';\n",
              "        element.innerHTML = '';\n",
              "        dataTable['output_type'] = 'display_data';\n",
              "        await google.colab.output.renderOutput(dataTable, element);\n",
              "        const docLink = document.createElement('div');\n",
              "        docLink.innerHTML = docLinkHtml;\n",
              "        element.appendChild(docLink);\n",
              "      }\n",
              "    </script>\n",
              "  </div>\n",
              "\n",
              "\n",
              "    <div id=\"df-71336a5c-e773-42cd-b1f6-ed5d4a35bbae\">\n",
              "      <button class=\"colab-df-quickchart\" onclick=\"quickchart('df-71336a5c-e773-42cd-b1f6-ed5d4a35bbae')\"\n",
              "                title=\"Suggest charts\"\n",
              "                style=\"display:none;\">\n",
              "\n",
              "<svg xmlns=\"http://www.w3.org/2000/svg\" height=\"24px\"viewBox=\"0 0 24 24\"\n",
              "     width=\"24px\">\n",
              "    <g>\n",
              "        <path d=\"M19 3H5c-1.1 0-2 .9-2 2v14c0 1.1.9 2 2 2h14c1.1 0 2-.9 2-2V5c0-1.1-.9-2-2-2zM9 17H7v-7h2v7zm4 0h-2V7h2v10zm4 0h-2v-4h2v4z\"/>\n",
              "    </g>\n",
              "</svg>\n",
              "      </button>\n",
              "\n",
              "<style>\n",
              "  .colab-df-quickchart {\n",
              "      --bg-color: #E8F0FE;\n",
              "      --fill-color: #1967D2;\n",
              "      --hover-bg-color: #E2EBFA;\n",
              "      --hover-fill-color: #174EA6;\n",
              "      --disabled-fill-color: #AAA;\n",
              "      --disabled-bg-color: #DDD;\n",
              "  }\n",
              "\n",
              "  [theme=dark] .colab-df-quickchart {\n",
              "      --bg-color: #3B4455;\n",
              "      --fill-color: #D2E3FC;\n",
              "      --hover-bg-color: #434B5C;\n",
              "      --hover-fill-color: #FFFFFF;\n",
              "      --disabled-bg-color: #3B4455;\n",
              "      --disabled-fill-color: #666;\n",
              "  }\n",
              "\n",
              "  .colab-df-quickchart {\n",
              "    background-color: var(--bg-color);\n",
              "    border: none;\n",
              "    border-radius: 50%;\n",
              "    cursor: pointer;\n",
              "    display: none;\n",
              "    fill: var(--fill-color);\n",
              "    height: 32px;\n",
              "    padding: 0;\n",
              "    width: 32px;\n",
              "  }\n",
              "\n",
              "  .colab-df-quickchart:hover {\n",
              "    background-color: var(--hover-bg-color);\n",
              "    box-shadow: 0 1px 2px rgba(60, 64, 67, 0.3), 0 1px 3px 1px rgba(60, 64, 67, 0.15);\n",
              "    fill: var(--button-hover-fill-color);\n",
              "  }\n",
              "\n",
              "  .colab-df-quickchart-complete:disabled,\n",
              "  .colab-df-quickchart-complete:disabled:hover {\n",
              "    background-color: var(--disabled-bg-color);\n",
              "    fill: var(--disabled-fill-color);\n",
              "    box-shadow: none;\n",
              "  }\n",
              "\n",
              "  .colab-df-spinner {\n",
              "    border: 2px solid var(--fill-color);\n",
              "    border-color: transparent;\n",
              "    border-bottom-color: var(--fill-color);\n",
              "    animation:\n",
              "      spin 1s steps(1) infinite;\n",
              "  }\n",
              "\n",
              "  @keyframes spin {\n",
              "    0% {\n",
              "      border-color: transparent;\n",
              "      border-bottom-color: var(--fill-color);\n",
              "      border-left-color: var(--fill-color);\n",
              "    }\n",
              "    20% {\n",
              "      border-color: transparent;\n",
              "      border-left-color: var(--fill-color);\n",
              "      border-top-color: var(--fill-color);\n",
              "    }\n",
              "    30% {\n",
              "      border-color: transparent;\n",
              "      border-left-color: var(--fill-color);\n",
              "      border-top-color: var(--fill-color);\n",
              "      border-right-color: var(--fill-color);\n",
              "    }\n",
              "    40% {\n",
              "      border-color: transparent;\n",
              "      border-right-color: var(--fill-color);\n",
              "      border-top-color: var(--fill-color);\n",
              "    }\n",
              "    60% {\n",
              "      border-color: transparent;\n",
              "      border-right-color: var(--fill-color);\n",
              "    }\n",
              "    80% {\n",
              "      border-color: transparent;\n",
              "      border-right-color: var(--fill-color);\n",
              "      border-bottom-color: var(--fill-color);\n",
              "    }\n",
              "    90% {\n",
              "      border-color: transparent;\n",
              "      border-bottom-color: var(--fill-color);\n",
              "    }\n",
              "  }\n",
              "</style>\n",
              "\n",
              "      <script>\n",
              "        async function quickchart(key) {\n",
              "          const quickchartButtonEl =\n",
              "            document.querySelector('#' + key + ' button');\n",
              "          quickchartButtonEl.disabled = true;  // To prevent multiple clicks.\n",
              "          quickchartButtonEl.classList.add('colab-df-spinner');\n",
              "          try {\n",
              "            const charts = await google.colab.kernel.invokeFunction(\n",
              "                'suggestCharts', [key], {});\n",
              "          } catch (error) {\n",
              "            console.error('Error during call to suggestCharts:', error);\n",
              "          }\n",
              "          quickchartButtonEl.classList.remove('colab-df-spinner');\n",
              "          quickchartButtonEl.classList.add('colab-df-quickchart-complete');\n",
              "        }\n",
              "        (() => {\n",
              "          let quickchartButtonEl =\n",
              "            document.querySelector('#df-71336a5c-e773-42cd-b1f6-ed5d4a35bbae button');\n",
              "          quickchartButtonEl.style.display =\n",
              "            google.colab.kernel.accessAllowed ? 'block' : 'none';\n",
              "        })();\n",
              "      </script>\n",
              "    </div>\n",
              "\n",
              "  <div id=\"id_cfae1ff1-fc8f-4ab1-8a98-ac79ecab2e93\">\n",
              "    <style>\n",
              "      .colab-df-generate {\n",
              "        background-color: #E8F0FE;\n",
              "        border: none;\n",
              "        border-radius: 50%;\n",
              "        cursor: pointer;\n",
              "        display: none;\n",
              "        fill: #1967D2;\n",
              "        height: 32px;\n",
              "        padding: 0 0 0 0;\n",
              "        width: 32px;\n",
              "      }\n",
              "\n",
              "      .colab-df-generate:hover {\n",
              "        background-color: #E2EBFA;\n",
              "        box-shadow: 0px 1px 2px rgba(60, 64, 67, 0.3), 0px 1px 3px 1px rgba(60, 64, 67, 0.15);\n",
              "        fill: #174EA6;\n",
              "      }\n",
              "\n",
              "      [theme=dark] .colab-df-generate {\n",
              "        background-color: #3B4455;\n",
              "        fill: #D2E3FC;\n",
              "      }\n",
              "\n",
              "      [theme=dark] .colab-df-generate:hover {\n",
              "        background-color: #434B5C;\n",
              "        box-shadow: 0px 1px 3px 1px rgba(0, 0, 0, 0.15);\n",
              "        filter: drop-shadow(0px 1px 2px rgba(0, 0, 0, 0.3));\n",
              "        fill: #FFFFFF;\n",
              "      }\n",
              "    </style>\n",
              "    <button class=\"colab-df-generate\" onclick=\"generateWithVariable('df')\"\n",
              "            title=\"Generate code using this dataframe.\"\n",
              "            style=\"display:none;\">\n",
              "\n",
              "  <svg xmlns=\"http://www.w3.org/2000/svg\" height=\"24px\"viewBox=\"0 0 24 24\"\n",
              "       width=\"24px\">\n",
              "    <path d=\"M7,19H8.4L18.45,9,17,7.55,7,17.6ZM5,21V16.75L18.45,3.32a2,2,0,0,1,2.83,0l1.4,1.43a1.91,1.91,0,0,1,.58,1.4,1.91,1.91,0,0,1-.58,1.4L9.25,21ZM18.45,9,17,7.55Zm-12,3A5.31,5.31,0,0,0,4.9,8.1,5.31,5.31,0,0,0,1,6.5,5.31,5.31,0,0,0,4.9,4.9,5.31,5.31,0,0,0,6.5,1,5.31,5.31,0,0,0,8.1,4.9,5.31,5.31,0,0,0,12,6.5,5.46,5.46,0,0,0,6.5,12Z\"/>\n",
              "  </svg>\n",
              "    </button>\n",
              "    <script>\n",
              "      (() => {\n",
              "      const buttonEl =\n",
              "        document.querySelector('#id_cfae1ff1-fc8f-4ab1-8a98-ac79ecab2e93 button.colab-df-generate');\n",
              "      buttonEl.style.display =\n",
              "        google.colab.kernel.accessAllowed ? 'block' : 'none';\n",
              "\n",
              "      buttonEl.onclick = () => {\n",
              "        google.colab.notebook.generateWithVariable('df');\n",
              "      }\n",
              "      })();\n",
              "    </script>\n",
              "  </div>\n",
              "\n",
              "    </div>\n",
              "  </div>\n"
            ],
            "application/vnd.google.colaboratory.intrinsic+json": {
              "type": "dataframe",
              "variable_name": "df",
              "summary": "{\n  \"name\": \"df\",\n  \"rows\": 11,\n  \"fields\": [\n    {\n      \"column\": \"Ciudad\",\n      \"properties\": {\n        \"dtype\": \"string\",\n        \"num_unique_values\": 11,\n        \"samples\": [\n          \"B\\u00f3gota\",\n          \"bogota\",\n          \"medell\\u00edn\"\n        ],\n        \"semantic_type\": \"\",\n        \"description\": \"\"\n      }\n    },\n    {\n      \"column\": \"Ciudad_Limpia\",\n      \"properties\": {\n        \"dtype\": \"category\",\n        \"num_unique_values\": 3,\n        \"samples\": [\n          \"Bogot\\u00e1\",\n          \"Cali\",\n          \"Medell\\u00edn\"\n        ],\n        \"semantic_type\": \"\",\n        \"description\": \"\"\n      }\n    }\n  ]\n}"
            }
          },
          "metadata": {},
          "execution_count": 143
        }
      ]
    },
    {
      "cell_type": "markdown",
      "source": [
        "Si quisieramos ver el resultado reflejado en la columna original se usa el siguiente código"
      ],
      "metadata": {
        "id": "rohccN8NZwh2"
      }
    },
    {
      "cell_type": "code",
      "source": [
        "df['Ciudad'] = df['Ciudad'].apply(lambda x: corregir_ciudad(x.title()))"
      ],
      "metadata": {
        "id": "irNx5FCwZgTu"
      },
      "execution_count": 165,
      "outputs": []
    },
    {
      "cell_type": "code",
      "source": [
        "df"
      ],
      "metadata": {
        "colab": {
          "base_uri": "https://localhost:8080/",
          "height": 394
        },
        "id": "jFtOJ2Q7hES-",
        "outputId": "97be364b-a097-4772-cfbb-7072edabe044"
      },
      "execution_count": 166,
      "outputs": [
        {
          "output_type": "execute_result",
          "data": {
            "text/plain": [
              "      Ciudad Ciudad_Limpia\n",
              "0     Bogotá        Bogotá\n",
              "1     Bogotá        Bogotá\n",
              "2     Bogotá        Bogotá\n",
              "3     Bogotá        Bogotá\n",
              "4     Bogotá        Bogotá\n",
              "5     Bogotá        Bogotá\n",
              "6     Bogotá        Bogotá\n",
              "7       Cali          Cali\n",
              "8       Cali          Cali\n",
              "9   Medellín      Medellín\n",
              "10  Medellín      Medellín"
            ],
            "text/html": [
              "\n",
              "  <div id=\"df-0d25dfd9-7425-449f-9c04-9b17761230f0\" class=\"colab-df-container\">\n",
              "    <div>\n",
              "<style scoped>\n",
              "    .dataframe tbody tr th:only-of-type {\n",
              "        vertical-align: middle;\n",
              "    }\n",
              "\n",
              "    .dataframe tbody tr th {\n",
              "        vertical-align: top;\n",
              "    }\n",
              "\n",
              "    .dataframe thead th {\n",
              "        text-align: right;\n",
              "    }\n",
              "</style>\n",
              "<table border=\"1\" class=\"dataframe\">\n",
              "  <thead>\n",
              "    <tr style=\"text-align: right;\">\n",
              "      <th></th>\n",
              "      <th>Ciudad</th>\n",
              "      <th>Ciudad_Limpia</th>\n",
              "    </tr>\n",
              "  </thead>\n",
              "  <tbody>\n",
              "    <tr>\n",
              "      <th>0</th>\n",
              "      <td>Bogotá</td>\n",
              "      <td>Bogotá</td>\n",
              "    </tr>\n",
              "    <tr>\n",
              "      <th>1</th>\n",
              "      <td>Bogotá</td>\n",
              "      <td>Bogotá</td>\n",
              "    </tr>\n",
              "    <tr>\n",
              "      <th>2</th>\n",
              "      <td>Bogotá</td>\n",
              "      <td>Bogotá</td>\n",
              "    </tr>\n",
              "    <tr>\n",
              "      <th>3</th>\n",
              "      <td>Bogotá</td>\n",
              "      <td>Bogotá</td>\n",
              "    </tr>\n",
              "    <tr>\n",
              "      <th>4</th>\n",
              "      <td>Bogotá</td>\n",
              "      <td>Bogotá</td>\n",
              "    </tr>\n",
              "    <tr>\n",
              "      <th>5</th>\n",
              "      <td>Bogotá</td>\n",
              "      <td>Bogotá</td>\n",
              "    </tr>\n",
              "    <tr>\n",
              "      <th>6</th>\n",
              "      <td>Bogotá</td>\n",
              "      <td>Bogotá</td>\n",
              "    </tr>\n",
              "    <tr>\n",
              "      <th>7</th>\n",
              "      <td>Cali</td>\n",
              "      <td>Cali</td>\n",
              "    </tr>\n",
              "    <tr>\n",
              "      <th>8</th>\n",
              "      <td>Cali</td>\n",
              "      <td>Cali</td>\n",
              "    </tr>\n",
              "    <tr>\n",
              "      <th>9</th>\n",
              "      <td>Medellín</td>\n",
              "      <td>Medellín</td>\n",
              "    </tr>\n",
              "    <tr>\n",
              "      <th>10</th>\n",
              "      <td>Medellín</td>\n",
              "      <td>Medellín</td>\n",
              "    </tr>\n",
              "  </tbody>\n",
              "</table>\n",
              "</div>\n",
              "    <div class=\"colab-df-buttons\">\n",
              "\n",
              "  <div class=\"colab-df-container\">\n",
              "    <button class=\"colab-df-convert\" onclick=\"convertToInteractive('df-0d25dfd9-7425-449f-9c04-9b17761230f0')\"\n",
              "            title=\"Convert this dataframe to an interactive table.\"\n",
              "            style=\"display:none;\">\n",
              "\n",
              "  <svg xmlns=\"http://www.w3.org/2000/svg\" height=\"24px\" viewBox=\"0 -960 960 960\">\n",
              "    <path d=\"M120-120v-720h720v720H120Zm60-500h600v-160H180v160Zm220 220h160v-160H400v160Zm0 220h160v-160H400v160ZM180-400h160v-160H180v160Zm440 0h160v-160H620v160ZM180-180h160v-160H180v160Zm440 0h160v-160H620v160Z\"/>\n",
              "  </svg>\n",
              "    </button>\n",
              "\n",
              "  <style>\n",
              "    .colab-df-container {\n",
              "      display:flex;\n",
              "      gap: 12px;\n",
              "    }\n",
              "\n",
              "    .colab-df-convert {\n",
              "      background-color: #E8F0FE;\n",
              "      border: none;\n",
              "      border-radius: 50%;\n",
              "      cursor: pointer;\n",
              "      display: none;\n",
              "      fill: #1967D2;\n",
              "      height: 32px;\n",
              "      padding: 0 0 0 0;\n",
              "      width: 32px;\n",
              "    }\n",
              "\n",
              "    .colab-df-convert:hover {\n",
              "      background-color: #E2EBFA;\n",
              "      box-shadow: 0px 1px 2px rgba(60, 64, 67, 0.3), 0px 1px 3px 1px rgba(60, 64, 67, 0.15);\n",
              "      fill: #174EA6;\n",
              "    }\n",
              "\n",
              "    .colab-df-buttons div {\n",
              "      margin-bottom: 4px;\n",
              "    }\n",
              "\n",
              "    [theme=dark] .colab-df-convert {\n",
              "      background-color: #3B4455;\n",
              "      fill: #D2E3FC;\n",
              "    }\n",
              "\n",
              "    [theme=dark] .colab-df-convert:hover {\n",
              "      background-color: #434B5C;\n",
              "      box-shadow: 0px 1px 3px 1px rgba(0, 0, 0, 0.15);\n",
              "      filter: drop-shadow(0px 1px 2px rgba(0, 0, 0, 0.3));\n",
              "      fill: #FFFFFF;\n",
              "    }\n",
              "  </style>\n",
              "\n",
              "    <script>\n",
              "      const buttonEl =\n",
              "        document.querySelector('#df-0d25dfd9-7425-449f-9c04-9b17761230f0 button.colab-df-convert');\n",
              "      buttonEl.style.display =\n",
              "        google.colab.kernel.accessAllowed ? 'block' : 'none';\n",
              "\n",
              "      async function convertToInteractive(key) {\n",
              "        const element = document.querySelector('#df-0d25dfd9-7425-449f-9c04-9b17761230f0');\n",
              "        const dataTable =\n",
              "          await google.colab.kernel.invokeFunction('convertToInteractive',\n",
              "                                                    [key], {});\n",
              "        if (!dataTable) return;\n",
              "\n",
              "        const docLinkHtml = 'Like what you see? Visit the ' +\n",
              "          '<a target=\"_blank\" href=https://colab.research.google.com/notebooks/data_table.ipynb>data table notebook</a>'\n",
              "          + ' to learn more about interactive tables.';\n",
              "        element.innerHTML = '';\n",
              "        dataTable['output_type'] = 'display_data';\n",
              "        await google.colab.output.renderOutput(dataTable, element);\n",
              "        const docLink = document.createElement('div');\n",
              "        docLink.innerHTML = docLinkHtml;\n",
              "        element.appendChild(docLink);\n",
              "      }\n",
              "    </script>\n",
              "  </div>\n",
              "\n",
              "\n",
              "    <div id=\"df-4036c709-1f24-4f17-8d1e-7750484ead59\">\n",
              "      <button class=\"colab-df-quickchart\" onclick=\"quickchart('df-4036c709-1f24-4f17-8d1e-7750484ead59')\"\n",
              "                title=\"Suggest charts\"\n",
              "                style=\"display:none;\">\n",
              "\n",
              "<svg xmlns=\"http://www.w3.org/2000/svg\" height=\"24px\"viewBox=\"0 0 24 24\"\n",
              "     width=\"24px\">\n",
              "    <g>\n",
              "        <path d=\"M19 3H5c-1.1 0-2 .9-2 2v14c0 1.1.9 2 2 2h14c1.1 0 2-.9 2-2V5c0-1.1-.9-2-2-2zM9 17H7v-7h2v7zm4 0h-2V7h2v10zm4 0h-2v-4h2v4z\"/>\n",
              "    </g>\n",
              "</svg>\n",
              "      </button>\n",
              "\n",
              "<style>\n",
              "  .colab-df-quickchart {\n",
              "      --bg-color: #E8F0FE;\n",
              "      --fill-color: #1967D2;\n",
              "      --hover-bg-color: #E2EBFA;\n",
              "      --hover-fill-color: #174EA6;\n",
              "      --disabled-fill-color: #AAA;\n",
              "      --disabled-bg-color: #DDD;\n",
              "  }\n",
              "\n",
              "  [theme=dark] .colab-df-quickchart {\n",
              "      --bg-color: #3B4455;\n",
              "      --fill-color: #D2E3FC;\n",
              "      --hover-bg-color: #434B5C;\n",
              "      --hover-fill-color: #FFFFFF;\n",
              "      --disabled-bg-color: #3B4455;\n",
              "      --disabled-fill-color: #666;\n",
              "  }\n",
              "\n",
              "  .colab-df-quickchart {\n",
              "    background-color: var(--bg-color);\n",
              "    border: none;\n",
              "    border-radius: 50%;\n",
              "    cursor: pointer;\n",
              "    display: none;\n",
              "    fill: var(--fill-color);\n",
              "    height: 32px;\n",
              "    padding: 0;\n",
              "    width: 32px;\n",
              "  }\n",
              "\n",
              "  .colab-df-quickchart:hover {\n",
              "    background-color: var(--hover-bg-color);\n",
              "    box-shadow: 0 1px 2px rgba(60, 64, 67, 0.3), 0 1px 3px 1px rgba(60, 64, 67, 0.15);\n",
              "    fill: var(--button-hover-fill-color);\n",
              "  }\n",
              "\n",
              "  .colab-df-quickchart-complete:disabled,\n",
              "  .colab-df-quickchart-complete:disabled:hover {\n",
              "    background-color: var(--disabled-bg-color);\n",
              "    fill: var(--disabled-fill-color);\n",
              "    box-shadow: none;\n",
              "  }\n",
              "\n",
              "  .colab-df-spinner {\n",
              "    border: 2px solid var(--fill-color);\n",
              "    border-color: transparent;\n",
              "    border-bottom-color: var(--fill-color);\n",
              "    animation:\n",
              "      spin 1s steps(1) infinite;\n",
              "  }\n",
              "\n",
              "  @keyframes spin {\n",
              "    0% {\n",
              "      border-color: transparent;\n",
              "      border-bottom-color: var(--fill-color);\n",
              "      border-left-color: var(--fill-color);\n",
              "    }\n",
              "    20% {\n",
              "      border-color: transparent;\n",
              "      border-left-color: var(--fill-color);\n",
              "      border-top-color: var(--fill-color);\n",
              "    }\n",
              "    30% {\n",
              "      border-color: transparent;\n",
              "      border-left-color: var(--fill-color);\n",
              "      border-top-color: var(--fill-color);\n",
              "      border-right-color: var(--fill-color);\n",
              "    }\n",
              "    40% {\n",
              "      border-color: transparent;\n",
              "      border-right-color: var(--fill-color);\n",
              "      border-top-color: var(--fill-color);\n",
              "    }\n",
              "    60% {\n",
              "      border-color: transparent;\n",
              "      border-right-color: var(--fill-color);\n",
              "    }\n",
              "    80% {\n",
              "      border-color: transparent;\n",
              "      border-right-color: var(--fill-color);\n",
              "      border-bottom-color: var(--fill-color);\n",
              "    }\n",
              "    90% {\n",
              "      border-color: transparent;\n",
              "      border-bottom-color: var(--fill-color);\n",
              "    }\n",
              "  }\n",
              "</style>\n",
              "\n",
              "      <script>\n",
              "        async function quickchart(key) {\n",
              "          const quickchartButtonEl =\n",
              "            document.querySelector('#' + key + ' button');\n",
              "          quickchartButtonEl.disabled = true;  // To prevent multiple clicks.\n",
              "          quickchartButtonEl.classList.add('colab-df-spinner');\n",
              "          try {\n",
              "            const charts = await google.colab.kernel.invokeFunction(\n",
              "                'suggestCharts', [key], {});\n",
              "          } catch (error) {\n",
              "            console.error('Error during call to suggestCharts:', error);\n",
              "          }\n",
              "          quickchartButtonEl.classList.remove('colab-df-spinner');\n",
              "          quickchartButtonEl.classList.add('colab-df-quickchart-complete');\n",
              "        }\n",
              "        (() => {\n",
              "          let quickchartButtonEl =\n",
              "            document.querySelector('#df-4036c709-1f24-4f17-8d1e-7750484ead59 button');\n",
              "          quickchartButtonEl.style.display =\n",
              "            google.colab.kernel.accessAllowed ? 'block' : 'none';\n",
              "        })();\n",
              "      </script>\n",
              "    </div>\n",
              "\n",
              "  <div id=\"id_cd2c6731-ebb1-46cf-bfb3-2b7b7dfc003d\">\n",
              "    <style>\n",
              "      .colab-df-generate {\n",
              "        background-color: #E8F0FE;\n",
              "        border: none;\n",
              "        border-radius: 50%;\n",
              "        cursor: pointer;\n",
              "        display: none;\n",
              "        fill: #1967D2;\n",
              "        height: 32px;\n",
              "        padding: 0 0 0 0;\n",
              "        width: 32px;\n",
              "      }\n",
              "\n",
              "      .colab-df-generate:hover {\n",
              "        background-color: #E2EBFA;\n",
              "        box-shadow: 0px 1px 2px rgba(60, 64, 67, 0.3), 0px 1px 3px 1px rgba(60, 64, 67, 0.15);\n",
              "        fill: #174EA6;\n",
              "      }\n",
              "\n",
              "      [theme=dark] .colab-df-generate {\n",
              "        background-color: #3B4455;\n",
              "        fill: #D2E3FC;\n",
              "      }\n",
              "\n",
              "      [theme=dark] .colab-df-generate:hover {\n",
              "        background-color: #434B5C;\n",
              "        box-shadow: 0px 1px 3px 1px rgba(0, 0, 0, 0.15);\n",
              "        filter: drop-shadow(0px 1px 2px rgba(0, 0, 0, 0.3));\n",
              "        fill: #FFFFFF;\n",
              "      }\n",
              "    </style>\n",
              "    <button class=\"colab-df-generate\" onclick=\"generateWithVariable('df')\"\n",
              "            title=\"Generate code using this dataframe.\"\n",
              "            style=\"display:none;\">\n",
              "\n",
              "  <svg xmlns=\"http://www.w3.org/2000/svg\" height=\"24px\"viewBox=\"0 0 24 24\"\n",
              "       width=\"24px\">\n",
              "    <path d=\"M7,19H8.4L18.45,9,17,7.55,7,17.6ZM5,21V16.75L18.45,3.32a2,2,0,0,1,2.83,0l1.4,1.43a1.91,1.91,0,0,1,.58,1.4,1.91,1.91,0,0,1-.58,1.4L9.25,21ZM18.45,9,17,7.55Zm-12,3A5.31,5.31,0,0,0,4.9,8.1,5.31,5.31,0,0,0,1,6.5,5.31,5.31,0,0,0,4.9,4.9,5.31,5.31,0,0,0,6.5,1,5.31,5.31,0,0,0,8.1,4.9,5.31,5.31,0,0,0,12,6.5,5.46,5.46,0,0,0,6.5,12Z\"/>\n",
              "  </svg>\n",
              "    </button>\n",
              "    <script>\n",
              "      (() => {\n",
              "      const buttonEl =\n",
              "        document.querySelector('#id_cd2c6731-ebb1-46cf-bfb3-2b7b7dfc003d button.colab-df-generate');\n",
              "      buttonEl.style.display =\n",
              "        google.colab.kernel.accessAllowed ? 'block' : 'none';\n",
              "\n",
              "      buttonEl.onclick = () => {\n",
              "        google.colab.notebook.generateWithVariable('df');\n",
              "      }\n",
              "      })();\n",
              "    </script>\n",
              "  </div>\n",
              "\n",
              "    </div>\n",
              "  </div>\n"
            ],
            "application/vnd.google.colaboratory.intrinsic+json": {
              "type": "dataframe",
              "variable_name": "df",
              "summary": "{\n  \"name\": \"df\",\n  \"rows\": 11,\n  \"fields\": [\n    {\n      \"column\": \"Ciudad\",\n      \"properties\": {\n        \"dtype\": \"category\",\n        \"num_unique_values\": 3,\n        \"samples\": [\n          \"Bogot\\u00e1\",\n          \"Cali\",\n          \"Medell\\u00edn\"\n        ],\n        \"semantic_type\": \"\",\n        \"description\": \"\"\n      }\n    },\n    {\n      \"column\": \"Ciudad_Limpia\",\n      \"properties\": {\n        \"dtype\": \"category\",\n        \"num_unique_values\": 3,\n        \"samples\": [\n          \"Bogot\\u00e1\",\n          \"Cali\",\n          \"Medell\\u00edn\"\n        ],\n        \"semantic_type\": \"\",\n        \"description\": \"\"\n      }\n    }\n  ]\n}"
            }
          },
          "metadata": {},
          "execution_count": 166
        }
      ]
    }
  ]
}